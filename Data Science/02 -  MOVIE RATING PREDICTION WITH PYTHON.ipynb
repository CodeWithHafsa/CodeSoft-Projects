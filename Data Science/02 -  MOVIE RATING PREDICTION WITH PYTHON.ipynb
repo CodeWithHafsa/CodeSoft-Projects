{
 "cells": [
  {
   "cell_type": "markdown",
   "metadata": {},
   "source": [
    "### Task # 2:  MOVIE RATING PREDICTION WITH PYTHON"
   ]
  },
  {
   "cell_type": "code",
   "execution_count": null,
   "metadata": {},
   "outputs": [],
   "source": [
    "# Import necessary libraries\n",
    "import pandas as pd\n",
    "from sklearn.model_selection import train_test_split\n",
    "from sklearn.linear_model import LinearRegression\n",
    "from sklearn.metrics import mean_squared_error\n",
    "\n",
    "# Load the movie dataset\n",
    "data = pd.read_csv('/kaggle/input/imdb-india-movies/IMDb Movies India.csv')\n",
    "\n",
    "# Select the features and target variable\n",
    "features = ['genre', 'director', 'actors']\n",
    "target = 'rating'\n",
    "\n",
    "# Split the data into training and testing sets\n",
    "X_train, X_test, y_train, y_test = train_test_split(data[features], data[target], test_size=0.2, random_state=42)\n",
    "\n",
    "# Initialize the linear regression model\n",
    "model = LinearRegression()\n",
    "\n",
    "# Fit the model on the training data\n",
    "model.fit(X_train, y_train)\n",
    "\n",
    "# Make predictions on the testing data\n",
    "y_pred = model.predict(X_test)\n",
    "\n",
    "# Evaluate the model using mean squared error\n",
    "mse = mean_squared_error(y_test, y_pred)\n",
    "print(f\"Mean Squared Error: {mse}\")"
   ]
  },
  {
   "cell_type": "markdown",
   "metadata": {},
   "source": [
    "Another way:"
   ]
  },
  {
   "cell_type": "code",
   "execution_count": null,
   "metadata": {},
   "outputs": [],
   "source": [
    "import pandas as pd\n",
    "from sklearn.linear_model import LinearRegression\n",
    "\n",
    "# Load the dataset\n",
    "url = '/kaggle/input/imdb-india-movies/IMDb Movies India.csv'\n",
    "imdb = pd.read_csv(url, sep='\\t')\n",
    "\n",
    "# Preprocess the data\n",
    "imdb.dropna(subset=['startYear', 'genres'], inplace=True)\n",
    "imdb = imdb[imdb['titleType'] == 'movie']\n",
    "imdb = imdb[['startYear', 'genres', 'directors', 'actors', 'averageRating']]\n",
    "imdb['startYear'] = imdb['startYear'].astype(int)\n",
    "imdb = pd.get_dummies(imdb, columns=['genres', 'directors', 'actors'], drop_first=True)\n",
    "\n",
    "# Train a linear regression model\n",
    "X = imdb.drop('averageRating', axis=1)\n",
    "y = imdb['averageRating']\n",
    "clf = LinearRegression().fit(X, y)\n",
    "\n",
    "# Predict rating for a new movie\n",
    "new_movie = [[2022, 0, 1, 0, 0, 0, 0, 0, 0, 1, 0]]\n",
    "prediction = clf.predict(new_movie)\n",
    "print(prediction)"
   ]
  }
 ],
 "metadata": {
  "language_info": {
   "name": "python"
  },
  "orig_nbformat": 4
 },
 "nbformat": 4,
 "nbformat_minor": 2
}

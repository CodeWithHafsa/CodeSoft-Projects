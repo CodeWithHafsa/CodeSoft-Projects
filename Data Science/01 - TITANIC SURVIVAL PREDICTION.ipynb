{
 "cells": [
  {
   "cell_type": "markdown",
   "id": "2c343854",
   "metadata": {},
   "source": [
    "### TASK # 1: TITANIC SURVIVAL PREDICTION"
   ]
  },
  {
   "cell_type": "code",
   "execution_count": null,
   "id": "536b3720",
   "metadata": {},
   "outputs": [],
   "source": [
    "# Import necessary libraries\n",
    "import pandas as pd\n",
    "from sklearn.model_selection import train_test_split\n",
    "from sklearn.linear_model import LogisticRegression\n",
    "from sklearn.metrics import accuracy_score\n",
    "\n",
    "# Load the dataset\n",
    "titanic_data = pd.read_csv('/kaggle/input/test-file/tested.csv')\n",
    "\n",
    "# Preprocess the data\n",
    "# Handle missing values\n",
    "titanic_data.fillna(0, inplace=True)\n",
    "\n",
    "# Encode categorical variables\n",
    "titanic_data = pd.get_dummies(titanic_data, columns=['Sex', 'Embarked'])\n",
    "\n",
    "# Normalize numerical features if needed\n",
    "\n",
    "# Split the dataset into training and testing sets\n",
    "X = titanic_data.drop('Survived', axis=1)\n",
    "y = titanic_data['Survived']\n",
    "X_train, X_test, y_train, y_test = train_test_split(X, y, test_size=0.2, random_state=42)\n",
    "\n",
    "# Choose a machine learning algorithm\n",
    "model = LogisticRegression()\n",
    "\n",
    "# Train the model\n",
    "model.fit(X_train, y_train)\n",
    "\n",
    "# Make predictions on the test set\n",
    "y_pred = model.predict(X_test)\n",
    "\n",
    "# Evaluate the model's performance\n",
    "accuracy = accuracy_score(y_test, y_pred)\n",
    "print(f\"Accuracy: {accuracy}\")"
   ]
  },
  {
   "cell_type": "markdown",
   "id": "73884bed",
   "metadata": {},
   "source": [
    "Another Way:"
   ]
  },
  {
   "cell_type": "code",
   "execution_count": null,
   "id": "de9f98c5",
   "metadata": {},
   "outputs": [],
   "source": [
    "import pandas as pd\n",
    "from sklearn.linear_model import LogisticRegression\n",
    "\n",
    "# Load the dataset\n",
    "url = '/kaggle/input/test-file/tested.csv'\n",
    "titanic = pd.read_csv(url)\n",
    "\n",
    "# Preprocess the data\n",
    "titanic.drop(['Name', 'Ticket', 'Cabin'], axis=1, inplace=True)\n",
    "titanic['Age'].fillna(titanic['Age'].median(), inplace=True)\n",
    "titanic['Embarked'].fillna(titanic['Embarked'].mode()[0], inplace=True)\n",
    "titanic = pd.get_dummies(titanic, columns=['Sex', 'Embarked'], drop_first=True)\n",
    "\n",
    "# Train a logistic regression model\n",
    "X = titanic.drop('Survived', axis=1)\n",
    "y = titanic['Survived']\n",
    "clf = LogisticRegression(random_state=0).fit(X, y)\n",
    "\n",
    "# Predict survival for a new passenger\n",
    "new_passenger = [[3, 25, 0, 0, 7.225, 0, 1, 0]]\n",
    "prediction = clf.predict(new_passenger)\n",
    "print(prediction)"
   ]
  }
 ],
 "metadata": {
  "kernelspec": {
   "display_name": "Python 3",
   "language": "python",
   "name": "python3"
  },
  "language_info": {
   "codemirror_mode": {
    "name": "ipython",
    "version": 3
   },
   "file_extension": ".py",
   "mimetype": "text/x-python",
   "name": "python",
   "nbconvert_exporter": "python",
   "pygments_lexer": "ipython3",
   "version": "3.11.5"
  }
 },
 "nbformat": 4,
 "nbformat_minor": 5
}
